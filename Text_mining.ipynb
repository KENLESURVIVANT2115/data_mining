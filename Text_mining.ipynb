{
 "cells": [
  {
   "cell_type": "markdown",
   "id": "bc852e9a",
   "metadata": {},
   "source": [
    "Import packages"
   ]
  },
  {
   "cell_type": "code",
   "execution_count": 2,
   "id": "7faad773",
   "metadata": {},
   "outputs": [],
   "source": [
    "import json\n",
    "import string\n",
    "from nltk.stem import PorterStemmer\n",
    "from nltk.tokenize import word_tokenize\n",
    "from nltk.corpus import PlaintextCorpusReader, stopwords"
   ]
  },
  {
   "cell_type": "markdown",
   "id": "f60ba13f",
   "metadata": {},
   "source": [
    "Create documents corpus"
   ]
  },
  {
   "cell_type": "code",
   "execution_count": 11,
   "id": "ba8eee00",
   "metadata": {},
   "outputs": [
    {
     "data": {
      "text/plain": [
       "[]"
      ]
     },
     "execution_count": 11,
     "metadata": {},
     "output_type": "execute_result"
    }
   ],
   "source": [
    "corpus_dir = \"./Literature-original\"\n",
    "corpus = PlaintextCorpusReader(corpus_dir, \".*\\.txt\")\n",
    "files_names = corpus.fileids()\n",
    "files_names"
   ]
  },
  {
   "cell_type": "markdown",
   "id": "e711752d",
   "metadata": {},
   "source": [
    "Corpus documents preprocessing"
   ]
  },
  {
   "cell_type": "code",
   "execution_count": 16,
   "id": "fd308b10",
   "metadata": {},
   "outputs": [
    {
     "name": "stdout",
     "output_type": "stream",
     "text": [
      "{}\n"
     ]
    }
   ],
   "source": [
    "documents = {}\n",
    "for file_name in files_names:\n",
    "    documents[file_name] = corpus.raw(file_name)\n",
    "print(json.dumps(documents, indent = 4, ensure_ascii = False))"
   ]
  },
  {
   "cell_type": "code",
   "execution_count": 13,
   "id": "617afd7a",
   "metadata": {},
   "outputs": [
    {
     "name": "stdout",
     "output_type": "stream",
     "text": [
      "<class 'dict'>\n"
     ]
    }
   ],
   "source": [
    "print(type(documents))"
   ]
  },
  {
   "cell_type": "code",
   "execution_count": 14,
   "id": "1a6f57a8",
   "metadata": {},
   "outputs": [],
   "source": [
    "ps = PorterStemmer()"
   ]
  },
  {
   "cell_type": "code",
   "execution_count": 15,
   "id": "7486a1eb",
   "metadata": {},
   "outputs": [
    {
     "name": "stdout",
     "output_type": "stream",
     "text": [
      "{}\n"
     ]
    }
   ],
   "source": [
    "for file_name in documents:\n",
    "    documents[file_name] =  documents[file_name].lower()\n",
    "    documents[file_name] = \"\".join(char for char in documents[file_name] if char not in string.punctuation)\n",
    "    documents[file_name] = \" \".join(ps.stem(word) for word in word_tokenize(documents[file_name]))\n",
    "    documents[file_name] = \" \".join(word for word in word_tokenize(documents[file_name]) if word not in list(stopwords.words('english')))\n",
    "print(json.dumps(documents, indent = 4, ensure_ascii = False))"
   ]
  }
 ],
 "metadata": {
  "kernelspec": {
   "display_name": ".venv",
   "language": "python",
   "name": "python3"
  },
  "language_info": {
   "codemirror_mode": {
    "name": "ipython",
    "version": 3
   },
   "file_extension": ".py",
   "mimetype": "text/x-python",
   "name": "python",
   "nbconvert_exporter": "python",
   "pygments_lexer": "ipython3",
   "version": "3.11.9"
  }
 },
 "nbformat": 4,
 "nbformat_minor": 5
}
